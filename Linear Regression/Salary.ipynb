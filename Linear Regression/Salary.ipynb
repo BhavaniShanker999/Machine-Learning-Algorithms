{
  "nbformat": 4,
  "nbformat_minor": 0,
  "metadata": {
    "colab": {
      "name": "Salary.ipynb",
      "provenance": [],
      "collapsed_sections": []
    },
    "kernelspec": {
      "name": "python3",
      "display_name": "Python 3"
    }
  },
  "cells": [
    {
      "cell_type": "code",
      "metadata": {
        "id": "otNWUqv9duip",
        "colab_type": "code",
        "colab": {}
      },
      "source": [
        "# importing the libraries\n",
        "import pandas as pd\n",
        "import numpy as np\n",
        "import matplotlib.pyplot as plt"
      ],
      "execution_count": 1,
      "outputs": []
    },
    {
      "cell_type": "code",
      "metadata": {
        "id": "VOVrO-T3eD8W",
        "colab_type": "code",
        "colab": {}
      },
      "source": [
        "#reading the data\n",
        "data=pd.read_csv('/content/salary.csv')\n",
        "data"
      ],
      "execution_count": null,
      "outputs": []
    },
    {
      "cell_type": "code",
      "metadata": {
        "id": "rreawaMXeaor",
        "colab_type": "code",
        "colab": {
          "base_uri": "https://localhost:8080/",
          "height": 1000
        },
        "outputId": "6175ce97-f598-4651-c9e0-43dbe93579bf"
      },
      "source": [
        "#printing them one by one\n",
        "years=pd.DataFrame(data[['YearsExperience']])\n",
        "salary=pd.DataFrame(data[['Salary']])\n",
        "print(years)\n",
        "print(salary)"
      ],
      "execution_count": 40,
      "outputs": [
        {
          "output_type": "stream",
          "text": [
            "    YearsExperience\n",
            "0               1.1\n",
            "1               1.3\n",
            "2               1.5\n",
            "3               2.0\n",
            "4               2.2\n",
            "5               2.9\n",
            "6               3.0\n",
            "7               3.2\n",
            "8               3.2\n",
            "9               3.7\n",
            "10              3.9\n",
            "11              4.0\n",
            "12              4.0\n",
            "13              4.1\n",
            "14              4.5\n",
            "15              4.9\n",
            "16              5.1\n",
            "17              5.3\n",
            "18              5.9\n",
            "19              6.0\n",
            "20              6.8\n",
            "21              7.1\n",
            "22              7.9\n",
            "23              8.2\n",
            "24              8.7\n",
            "25              9.0\n",
            "26              9.5\n",
            "27              9.6\n",
            "28             10.3\n",
            "29             10.5\n",
            "      Salary\n",
            "0    39343.0\n",
            "1    46205.0\n",
            "2    37731.0\n",
            "3    43525.0\n",
            "4    39891.0\n",
            "5    56642.0\n",
            "6    60150.0\n",
            "7    54445.0\n",
            "8    64445.0\n",
            "9    57189.0\n",
            "10   63218.0\n",
            "11   55794.0\n",
            "12   56957.0\n",
            "13   57081.0\n",
            "14   61111.0\n",
            "15   67938.0\n",
            "16   66029.0\n",
            "17   83088.0\n",
            "18   81363.0\n",
            "19   93940.0\n",
            "20   91738.0\n",
            "21   98273.0\n",
            "22  101302.0\n",
            "23  113812.0\n",
            "24  109431.0\n",
            "25  105582.0\n",
            "26  116969.0\n",
            "27  112635.0\n",
            "28  122391.0\n",
            "29  121872.0\n"
          ],
          "name": "stdout"
        }
      ]
    },
    {
      "cell_type": "code",
      "metadata": {
        "id": "eRiFBb20etFw",
        "colab_type": "code",
        "colab": {}
      },
      "source": [
        "#plotting the data\n",
        "data.plot(kind='scatter',x='YearsExperience',y='Salary')\n",
        "plt.show()\n"
      ],
      "execution_count": null,
      "outputs": []
    },
    {
      "cell_type": "code",
      "metadata": {
        "id": "ShSbO9qSfgqt",
        "colab_type": "code",
        "colab": {}
      },
      "source": [
        "#Finding the co-relation\n",
        "data.corr()\n",
        "print('The corr btw the salary and years of experience :',(data['YearsExperience'].corr(data['Salary'])))"
      ],
      "execution_count": null,
      "outputs": []
    },
    {
      "cell_type": "code",
      "metadata": {
        "id": "k-_xyco1gL99",
        "colab_type": "code",
        "colab": {
          "base_uri": "https://localhost:8080/",
          "height": 34
        },
        "outputId": "ad943671-fe9e-43a2-dfe6-0517e5772170"
      },
      "source": [
        "# Handling with model\n",
        "from sklearn import linear_model\n",
        "lr=linear_model.LinearRegression()\n",
        "model=lr.fit(years,salary)\n",
        "model.score(years,salary)\n"
      ],
      "execution_count": 102,
      "outputs": [
        {
          "output_type": "execute_result",
          "data": {
            "text/plain": [
              "0.9569566641435084"
            ]
          },
          "metadata": {
            "tags": []
          },
          "execution_count": 102
        }
      ]
    },
    {
      "cell_type": "code",
      "metadata": {
        "id": "jokvR-WYhf0M",
        "colab_type": "code",
        "colab": {
          "base_uri": "https://localhost:8080/",
          "height": 51
        },
        "outputId": "1113c42b-a66a-4a60-fb54-44211f6e80d1"
      },
      "source": [
        "#printing model co=efficent\n",
        "print('The co-eff is:',model.coef_)\n",
        "print('The intercept is:',model.intercept_)"
      ],
      "execution_count": 35,
      "outputs": [
        {
          "output_type": "stream",
          "text": [
            "The co-eff is: [[9449.96232146]]\n",
            "The intercept is: [25792.20019867]\n"
          ],
          "name": "stdout"
        }
      ]
    },
    {
      "cell_type": "code",
      "metadata": {
        "id": "6Lzm5sNViCQp",
        "colab_type": "code",
        "colab": {
          "base_uri": "https://localhost:8080/",
          "height": 279
        },
        "outputId": "1b3f3841-5c6b-4797-ac98-8cdf1c5c9cd7"
      },
      "source": [
        "#plotting the data\n",
        "data.plot(kind='scatter',x='YearsExperience',y='Salary')\n",
        "plt.plot(years,model.predict(years),color='violet',linewidth=2)\n",
        "plt.show()\n"
      ],
      "execution_count": 54,
      "outputs": [
        {
          "output_type": "display_data",
          "data": {
            "image/png": "[encoded data removed]",
            "text/plain": [
              "<Figure size 432x288 with 1 Axes>"
            ]
          },
          "metadata": {
            "tags": [],
            "needs_background": "light"
          }
        }
      ]
    },
    {
      "cell_type": "code",
      "metadata": {
        "id": "SX-MKqZmjJMh",
        "colab_type": "code",
        "colab": {
          "base_uri": "https://localhost:8080/",
          "height": 34
        },
        "outputId": "caca10e8-0a7d-4a7f-ccdf-8ee05be275dc"
      },
      "source": [
        "#feeding new data and predicting\n",
        "new_years=pd.DataFrame([5.2,7.8,9.4,12.2,2.87,1.5,2.5,3.5,4.5,])\n",
        "new_salary=pd.DataFrame(model.predict(new_years))\n",
        "new_data=[new_years,new_salary]\n",
        "new_data=pd.DataFrame(new_data)\n",
        "print('The Score of the model is:',model.score(new_years,new_salary))\n"
      ],
      "execution_count": 106,
      "outputs": [
        {
          "output_type": "stream",
          "text": [
            "The Score of the model is: 1.0\n"
          ],
          "name": "stdout"
        }
      ]
    },
    {
      "cell_type": "code",
      "metadata": {
        "id": "bNVi7X_HmXuC",
        "colab_type": "code",
        "colab": {
          "base_uri": "https://localhost:8080/",
          "height": 279
        },
        "outputId": "66a566d2-ed2f-45d7-d3b6-5cf03d807d50"
      },
      "source": [
        "#plotting the data\n",
        "data.plot(kind='scatter',x='YearsExperience',y='Salary')\n",
        "# regression line\n",
        "plt.plot(years,model.predict(years),color='blue',linewidth=4)\n",
        "#new data plotting\n",
        "plt.scatter(new_years,new_salary,color='red')\n",
        "#plotting predicted reg line\n",
        "plt.plot(new_years,new_salary,color='red',linewidth=1)\n",
        "plt.show()\n",
        "\n"
      ],
      "execution_count": 99,
      "outputs": [
        {
          "output_type": "display_data",
          "data": {
            "image/png": "[encoded data removed]",
            "text/plain": [
              "<Figure size 432x288 with 1 Axes>"
            ]
          },
          "metadata": {
            "tags": [],
            "needs_background": "light"
          }
        }
      ]
    },
    {
      "cell_type": "code",
      "metadata": {
        "id": "NRHSWASOoRhE",
        "colab_type": "code",
        "colab": {}
      },
      "source": [
        ""
      ],
      "execution_count": null,
      "outputs": []
    }
  ]
}